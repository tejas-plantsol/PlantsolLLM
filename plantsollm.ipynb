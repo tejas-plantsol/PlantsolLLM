{
 "cells": [
  {
   "cell_type": "code",
   "execution_count": 170,
   "metadata": {},
   "outputs": [],
   "source": [
    "import os\n",
    "from dotenv import load_dotenv"
   ]
  },
  {
   "cell_type": "code",
   "execution_count": 181,
   "metadata": {},
   "outputs": [
    {
     "data": {
      "text/plain": [
       "True"
      ]
     },
     "execution_count": 181,
     "metadata": {},
     "output_type": "execute_result"
    }
   ],
   "source": [
    "load_dotenv()"
   ]
  },
  {
   "cell_type": "code",
   "execution_count": 4,
   "metadata": {},
   "outputs": [],
   "source": [
    "OPENAI_API_KEY = os.getenv(\"OPENAI_API_KEY\")"
   ]
  },
  {
   "cell_type": "code",
   "execution_count": 5,
   "metadata": {},
   "outputs": [],
   "source": [
    "from langchain_openai.chat_models import ChatOpenAI"
   ]
  },
  {
   "cell_type": "code",
   "execution_count": 6,
   "metadata": {},
   "outputs": [],
   "source": [
    "model = ChatOpenAI(openai_api_key=OPENAI_API_KEY, model=\"gpt-3.5-turbo\")"
   ]
  },
  {
   "cell_type": "code",
   "execution_count": null,
   "metadata": {},
   "outputs": [],
   "source": [
    "from pinecone import Pinecone"
   ]
  },
  {
   "cell_type": "code",
   "execution_count": 15,
   "metadata": {},
   "outputs": [
    {
     "data": {
      "text/plain": [
       "True"
      ]
     },
     "execution_count": 15,
     "metadata": {},
     "output_type": "execute_result"
    }
   ],
   "source": [
    "load_dotenv()"
   ]
  },
  {
   "cell_type": "code",
   "execution_count": 17,
   "metadata": {},
   "outputs": [],
   "source": [
    "pc_db = Pinecone(api_key=os.getenv(\"PINECONE_API_KEY\"))"
   ]
  },
  {
   "cell_type": "code",
   "execution_count": 20,
   "metadata": {},
   "outputs": [],
   "source": [
    "import requests\n",
    "import openpyxl as xl"
   ]
  },
  {
   "cell_type": "code",
   "execution_count": 21,
   "metadata": {},
   "outputs": [],
   "source": [
    "wb = xl.load_workbook(\"./data/collated/faolex_download.xlsx\")"
   ]
  },
  {
   "cell_type": "code",
   "execution_count": 22,
   "metadata": {},
   "outputs": [],
   "source": [
    "ws = wb[wb.sheetnames[0]]"
   ]
  },
  {
   "cell_type": "code",
   "execution_count": 23,
   "metadata": {},
   "outputs": [],
   "source": [
    "def download_all_files(ws):\n",
    "    for row in ws.iter_rows():\n",
    "        for cell in row:\n",
    "            try:\n",
    "                target = cell.hyperlink.target\n",
    "                if target.startswith(\"https://faolex.fao.org/docs/pdf\"):\n",
    "                    pdf_res = requests.get(target)\n",
    "                    with open(f\"./data/raw/pdfs/{target.replace('https://faolex.fao.org/docs/pdf/', '')}\", \"wb\") as f:\n",
    "                        f.write(pdf_res.content)\n",
    "                        print(f\"Downloaded: {target}\")\n",
    "            except Exception as e:\n",
    "                pass\n",
    "    downloaded = os.listdir(\"./data/raw\")\n",
    "    for row in ws.iter_rows():\n",
    "        for cell in row:\n",
    "            try:\n",
    "                target = cell.hyperlink.target\n",
    "                if not target.startswith(\"http://www.fao.org/faolex\") and target.replace(\"https://faolex.fao.org/docs/pdf/\", \"\") not in downloaded:\n",
    "                    htm_res = requests.get(target)\n",
    "                    with open(f\"./data/raw/htms/{target.replace('https://faolex.fao.org/docs/html/', '')}\", \"wb\") as f:\n",
    "                        f.write(htm_res.content)\n",
    "                        print(f\"Downloaded: {target}\")\n",
    "            except:\n",
    "                pass"
   ]
  },
  {
   "cell_type": "code",
   "execution_count": null,
   "metadata": {},
   "outputs": [],
   "source": [
    "download_all_files(ws)"
   ]
  },
  {
   "cell_type": "code",
   "execution_count": 118,
   "metadata": {},
   "outputs": [],
   "source": [
    "from langchain_community.document_loaders import PyPDFLoader\n",
    "pdfs = []\n",
    "for file in os.listdir(\"./data/raw/pdfs\"):\n",
    "    if file.endswith(\".pdf\"):\n",
    "        pdf_loader = PyPDFLoader(f\"./data/raw/pdfs/{file}\")\n",
    "        pdf = pdf_loader.load()\n",
    "        pdf = [p.page_content for p in pdf]\n",
    "        pdfs.append({\"fname\": file.replace(\".pdf\", \"\"), \"text\": pdf})"
   ]
  },
  {
   "cell_type": "code",
   "execution_count": 120,
   "metadata": {},
   "outputs": [
    {
     "data": {
      "text/plain": [
       "125"
      ]
     },
     "execution_count": 120,
     "metadata": {},
     "output_type": "execute_result"
    }
   ],
   "source": [
    "len(pdfs)"
   ]
  },
  {
   "cell_type": "code",
   "execution_count": 26,
   "metadata": {},
   "outputs": [],
   "source": [
    "from langchain_community.document_loaders import UnstructuredHTMLLoader\n",
    "htms = []\n",
    "for file in os.listdir(\"./data/raw/htms\"):\n",
    "    htm_loader = UnstructuredHTMLLoader(f\"./data/raw/htms/{file}\")\n",
    "    htm = htm_loader.load()\n",
    "    htm = [h.page_content for h in htm]\n",
    "    htms.append(htm)"
   ]
  },
  {
   "cell_type": "code",
   "execution_count": 27,
   "metadata": {},
   "outputs": [],
   "source": [
    "from langchain_text_splitters import RecursiveCharacterTextSplitter"
   ]
  },
  {
   "cell_type": "code",
   "execution_count": 28,
   "metadata": {},
   "outputs": [],
   "source": [
    "splitter = RecursiveCharacterTextSplitter(chunk_size=600, chunk_overlap=40) # Apx. 100 words"
   ]
  },
  {
   "cell_type": "code",
   "execution_count": 29,
   "metadata": {},
   "outputs": [],
   "source": [
    "pdfs = [\"\".join(p) for p in pdfs]\n",
    "htms = [\"\".join(h) for h in htms]"
   ]
  },
  {
   "cell_type": "code",
   "execution_count": null,
   "metadata": {},
   "outputs": [],
   "source": [
    "def gpt_format_document(chain, document):\n",
    "    return chain.invoke(f\"Format the following document into one that is cleaner by removing formatting errors and unecessary special characters. Make it readable. Here is the document:\\n{document}\")"
   ]
  },
  {
   "cell_type": "code",
   "execution_count": 114,
   "metadata": {},
   "outputs": [
    {
     "data": {
      "text/plain": [
       "125"
      ]
     },
     "execution_count": 114,
     "metadata": {},
     "output_type": "execute_result"
    }
   ],
   "source": [
    "len(pdfs)"
   ]
  },
  {
   "cell_type": "code",
   "execution_count": null,
   "metadata": {},
   "outputs": [],
   "source": [
    "from langchain_core.output_parsers import StrOutputParser\n",
    "\n",
    "parser = StrOutputParser()"
   ]
  },
  {
   "cell_type": "code",
   "execution_count": null,
   "metadata": {},
   "outputs": [],
   "source": [
    "chain = model | parser"
   ]
  },
  {
   "cell_type": "code",
   "execution_count": 30,
   "metadata": {},
   "outputs": [],
   "source": [
    "pdfs_clean = []\n",
    "htms_clean = []\n",
    "printed = 0\n",
    "# for p in pdfs: \n",
    "#     try:\n",
    "#         pdfs_clean.append(gpt_format_document(chain, p[\"text\"]))\n",
    "#     except Exception as e:\n",
    "#         pdfs_clean.append(p[\"text\"])\n",
    "#         print(e)\n",
    "#     printed += 1\n",
    "#     print(f\"Cleaned: {printed}\")\n",
    "with open(\"./pdfs_clean1.txt\") as f:\n",
    "    pdfs_clean = f.readlines()"
   ]
  },
  {
   "cell_type": "code",
   "execution_count": 31,
   "metadata": {},
   "outputs": [],
   "source": [
    "pdfs_clean = [p[1:-1] for p in pdfs_clean]"
   ]
  },
  {
   "cell_type": "code",
   "execution_count": null,
   "metadata": {},
   "outputs": [
    {
     "data": {
      "text/plain": [
       "0"
      ]
     },
     "execution_count": 86,
     "metadata": {},
     "output_type": "execute_result"
    }
   ],
   "source": [
    "len(pdfs)-len(pdfs_clean)"
   ]
  },
  {
   "cell_type": "code",
   "execution_count": 32,
   "metadata": {},
   "outputs": [],
   "source": [
    "import tiktoken"
   ]
  },
  {
   "cell_type": "code",
   "execution_count": null,
   "metadata": {},
   "outputs": [
    {
     "data": {
      "text/plain": [
       "\" \\n   \\n \\n  i \\n Table of Contents  \\nA Message from the Administrator  ................................................................................................ 1 \\nMission  ......................................................................................................................................................... 2 \\nCore Values  ................................................................................................................................................. 2 \\nDriving Forces  ............................................................................................................................................. 2 \\nGoals and Objectives  ....................................................................................................................... 5 \\nGoal 1.   Deliver efficient, effective, and responsive programs  ...................................................... 5 \\nGoal 2.   Safeguard American agriculture  ........................................................................................ 8 \\nGoal 3.  Facilitate safe U.S. agricultural exports  ........................................................................... 15 \\nAppendices  .................................................................................................................................... 17 \\nAppendix A: Performance Measures  ............................................................................................ 17 \\n \\n \\n \\n  \\n \\n \\n \\n  ii \\n   1 \\n A Message from the Administrator  \\nOur mission to protect the health and value of America’s agriculture and \\nnatural resources  is no simple task, and cannot be accomplished on our own. \\nAchieving this mission requires the Animal and Plant Health Inspection Service (APHIS) to work collaboratively with other  governmental agencies and \\nindustry, a nd to consult regularly with partners  and stakeholders  regarding \\nthe effectiveness of our programs. We cannot accomplish alone what we can \\naccomplish together.  \\nWith that in mind, I am pleased to present our Strategic Plan for fiscal years 2019  – 2023. This plan sets our course for safeguarding  the health, welfare, and value of \\nAmerican agriculture and natural resources over  the next five years. We will accomplish the \\nplan’s goals by delivering our programs and services efficiently, effectively, with integrity, and a strong focus on customer service.  \\nAPHIS  takes  the appropriate measures to protect agricultural health by preventing and \\nmitigating the spread of plant and animal pests and diseases, and to enable safe  agricultural \\ntrade  to ensure the prosperity of U.S. producers and the growth of the economy.  We will \\nimprove the customer experience by modernizing and consolidating our information \\ntechnology infrastructure, as well as other structures  and services  throughout the agency.  We \\nwill seek innovat ive solutions to best serve the needs of our customers. We will streamline our \\nprocesses and reduce regulatory burdens. We will carefully and responsibly manage our \\nresources and use accurate and reliable data to make decisions and to maximize our return on \\ninvestments  and deliver value to our customers . \\nAPHIS will maintain a high performing workforce by maximizing employee performance and \\nproviding safe work environments. We will keep employees engaged and empowered because \\nemployees who  are passionate about their work have a positive effect on the quality of the \\nagency’s products and services. We will also leverage the diversity of our workforce to create a more inclusive and fair work environment . \\nIn the coming years, this plan will guide our work to ensure our efforts meet the needs and expectations of our customers and the American public . We will remain accountable to each \\nother and to the people who rely on our services. Together, we wi ll meet the goals and  \\nobjectives set forth in this plan.  \\n  \\n \\nKevin Shea, Administrator USDA, Animal and Plant Health Inspection Service  \\n  \\n2 \\n Mission  \\nTo safeguard the health , welfare  and value of American agriculture  and natural resources . \\nCore Values  \\nThe USDA’s S trategic Plan for fiscal years (FYs) 2019– 2023 identifies the Department’s core \\nvalues. As part of the USDA, APHIS  embraces the same values, thereby contributing to the \\nsucces s of the Department as a whole.  \\nThe success of USDA depends on  the following core values:  \\n\\uf076 Honesty & Integrity  – We expect a nd require complete honesty and integrity in all we do.  \\n\\uf076 Commitment  – We make commitments with care and live up to them.  \\n\\uf076 Accountability  – We own up to problems and are always responsive.  \\n\\uf076 Reliability  – We provide service to our customers on time, every time.  \\n\\uf076 Responsible Stewardship  – We guard, conserve, and preserve USDA resources the \\ntaxpayers have entrusted to us.  \\nDriving Forces  \\nAgriculture and the global marketplace continue to evolve , and A PHIS must progress and \\nchange to keep pace. The driving forc es below require that we take a critical look at how we \\nstrategically conduct our activities  to best meet our mission . While some of these driving forces \\nare predictable and  have become e stablished over time, other forces , such as the changing pest \\nand diseas e landscape  are less  predictable  and present more uncertainties.  \\n  \\n3 \\n A Closer Look at the Driving Forces  \\nDeliver ing Services with a Customer Focus  \\nToday, customers  expect more transparent, accessible, and responsive services from the public \\nsector . While the public sector has made changes in recent years to improve the delivery of \\nservices, more can be done. According to a recent survey conducted by the McKinsey Center for \\nGovernment, customers feel frustrated by cumbersome websites and processes, and dealing \\nwith multiple parties before their needs are met. In addition to traditional customers, the public sector must also be prepared to meet the needs of new and less traditional customers. For example, the growth of nontraditional producers in rece nt years  has required  APHIS to expand \\nits services to cover additional  species,  and new  production methods and practices . With this in \\nmind, we will seek out opportunities to engage with our customers so we can better understand their needs  and gather feed back on our services . This will include reaching out to \\nunderserved communities, socially disadvantaged  farmers, ranchers, and tribes. We will focus  \\non being more efficient and effective . We will base our decisions on robust and timely analysis \\nof data to better meet the needs of our customers . For a number of APHIS programs, our \\ncustomers and stakeholders may have differing viewpoints, and we value th ese differences . \\nEngaging partners, stakeholders, and customers  including the regulated community  with \\ndiffering viewpoints is important in managing the risks associated with program operations and \\npolicymaking.  \\nGlobal Demand for U.S. Agricultural Products  \\nExpanding international marketing opportunities for U.S. farmers and exporters is crucial to business and income growth across rural America. In fact , today the U.S. farmers  export more \\nthan 20  percent  of what they produce, and support more than 1 million jobs in communities \\nacross the country for ranchers, growers, truckers, brokers, dockworkers, an d other agricultural \\nbusinesses. APHIS contributes to this robust export market by providing technical and scientific expertise to animal and plant health issues, and by preventing and resolving barriers to U.S. food and agricultural exports. This scientif ic and technical know -how is vital to the success of \\nthose that negotiate, monitor, and enforce trade agreements. Without it, the task of retaining or expanding foreign markets would be more challenging than it already is, given the unpredictability of the  trade arena. APHIS plays a crucial role in helping prevent or mitigate \\nmarket disruptions for U.S. producers and foreign consumers.  \\nEnsuring Protection is at a Reasonable Cost  \\nAPHIS is dedicated to protecting the health, welfare, and value of American agriculture and natural resources. At the same time, APHIS understands this protection should be at a reasonable cost. With this understanding, APHIS is committed to easing regulatory burdens on the American people. E asing regulatory burdens makes it easier t o create jobs and promote \\neconomic growth. Agriculture and commerce operations have changed over the years, and the regulatory tools that worked in the past may not be the best tools to use today. We need to go beyond regulations and seek out other means for safeguarding animal and plant health, and  \\nanimal welfare. We will continue to work closely with our partners, stakeholder, and customers to explore alternatives to regulations. This may include employing outreach initiatives or leveraging industry stand ards. We will look at flexible approaches to apply to existing 4 \\n regulations and identify older regulations that are outdated, unnecessary, ineffective, and no \\nlonger suppor ted by science or sound policy.  \\nRapid Advances in Science and Technology  \\nRapid advances in science and technology provide APHIS with opportunities to continually change how we provide services to our customers. This includes adapting our current practices and adopting new best practices. Communications and commerce occur electronically —hard -\\ncopy forms are quickly becoming obsolete. Plant and animal sciences are changing quickly with developments in the areas of genetic engineering, disease detection and veterinary biologics, \\namong others. Other developing technologies, including  unmanned aerial systems (drones) are \\nincreasingly utilized by the public and private sectors to increase efficiencies in surveys and \\nmonitoring. Like USDA’s initiative to provide faster, friendlier and easier service to its \\ncustomers, APHIS too is committ ed to making it easier and faster for customers to find the \\ninformation they need. With an eye toward excellence, value, and the future, we are always \\nfinding new ways to accomplish our work so that APHIS’ way of doing business reflects the way agricult ure and commerce operate today.  We use more technology to ensure industry moves at \\nthe speed of commerce and keeps up with demand for agricultural commodities. Our science centers will lead the way by developing and delivering science -based knowledge and meth ods \\nto identify and analyze risks and mitigate threats. Along with traditional communication tools such as publications and public service announcements, we also use new technologies to reach our partners, stakeholders, and customers.  \\nChanging Pest and Dis ease Landscape  \\nToday, the landscape for pests and diseases is changing. Pest and disease events are more \\nfrequent, more complex, and less predictable. These changes are occurring for many reasons, \\nincluding human population growth, urbanization, economic d evelopment, changes in land use, \\nincrease s in global travel and trade, and changing farming and production practices. These \\nglobal developments are contributing to the worldwide redistribution of pathogens, vectors, and infected hosts. Examples of recent global emerging disease events include the Middle East \\nrespiratory syndrome outbreak in 2012, the H7N9 avian influenza outbreak in China in 2013 , \\nthe Porcine Epidemic Diarrhea Virus (PEDV) outbreak in the United States in 2014, the H5 N2 \\navian influenza outb reak in the United States in 2015,  and the Zika virus outbreak in 2016.  \\nMany of these events involve zoonotic diseases with the potential to impact human health and that require s new partnerships with experts in public health, wildlife, and the environmen t. It is \\nessential that APHIS adapts to this changing landscape by preventing the entry and spread of these pests and diseases in the United States and by strengthening its early detection, preparedness, and response capabilities. APHIS will employ an inte grated systems- based One \\nHealth approach , which focus on the interconnection between people, animals, plants and the \\nenvironment , to minimize the risk of pest and disease events, to protect the national food \\nsupply.  \\n  5 \\n Goals and Objectives  \\nTo respond to these driving forces, APHIS needs to be faster and more agile to meet the needs \\nof our partners, stakeholders  and customers . APHIS will constantly strive to improve and deliver \\nour services in a way that is less costly , faster, and more effec tive for American agriculture, \\nfarmers and ranchers, and the public.  \\nTo accomplish our mission, our goals are to:  \\n• Deliver efficient, effective, and responsive programs . \\n• Safeguard American agriculture . \\n• Facilitate safe U.S. agricultural exports . \\nThese three  strategic goals represent our overall priorities. The y include 14 objectives that \\ncompr ise the agency’s major programmatic efforts and services . To support the objectives of \\neach goal, APHIS employs numerous proven tactics in the programs.  The tactics in this plan \\nrepresent  only a portion of APHIS activities  and by no means embody all the important work \\nAPHIS does to fulfill  its mission.  \\nGoal 1.   Deliver efficient, effective, and responsive programs  \\nAPHIS  delivers  efficient, effective, and responsive programs, with integrity and a focus on \\ncustomer service.  APHIS will improve the customer experience by modernizing and \\nconsolidating IT systems and services, strengthening facility and property management, and \\nstreamlining business practices an d processes to better serve customers. APHIS will investigat e \\nand incorporat e big data tools to enhance research and statistical analyses, as well as support \\nfuture data systems investments to create efficiencies  and enhance decision -making . \\nAPHIS will also remove obstacles in its  programs by reducing regulatory burdens. APHIS will \\nsafeguard the health, welfare, and value of domestic agriculture and natural resources, but will ensure this effort is at a reasonable costs to American producers. APHIS will also maximize the return on taxpayer investments by conserving resources and being accountable for the spending of these resources. To improve its program delivery, the agency will expand use of \\nperformance data and program evaluations to drive its decisions. Information resulting from \\nthese evaluations will help the agency to identify areas of improvement to improve the quality of services providing by APHIS programs. Additionally, APHIS will embrace  workforce  \\ndifferences to better serve its cus tomers. This includes holding managers accountable for \\nensuring all customers receive equal access to programs, activities, and services delivered or \\nfunded by APHIS , and treating employees fairly and equally in the workplace.  \\nThe agency will engage employ ees by listening to them, leveraging training and development \\nopportunities, fostering effective communications between managers and employees, and \\noffer work -life flexibilities so employees may perform at their highest levels while maintaining a \\nbalanced life. We will create a safe and modern space for employees.  \\n   6 \\n Objective 1.1 :  Improve the customer experience by modernizing information technology \\ninfrastructure, facilities, and streamlining the delivery of our services.  \\nTactics to achieve the objective:  \\n• Support One  USDA approach to consolidate information technology structures into one \\norganization . \\n• Develop a strategic framework for information technology that focuses on aligning \\ninformation technology investments with mission and business prio rities; enabling \\ninnovative business driven solutions; optimizing the use and value of information technology; securing information technology, supporting data collection, storage, and retrieving for decision -making purposes; and enabl ing information as a strategic asset.  \\n• Transition to IT cloud services  by closing APHIS data centers . \\n• Use innovative solutions for administrative projects such as strategic sourc ing and \\nmarketplace approaches.  \\n• Expand electronic processing of export documentation, adding digital signature \\ncapabilities , full electronic delivery and acceptance of documentation.  \\n• Complete develop ment  and implement ation of  eFile , a system that will automate APHIS’ \\npermitting processes along with other processes like certificatio n, registration, and \\nlicensing.  \\n• Improve electronic sharing of information and data . \\n• Increase the number of National Animal Health Laboratory Network (NAHLN) \\nLaboratories that message test results and expand the number of diseases that can be messaged.  \\n• Complete implementation of electronic submissions for biologic companies and \\ndiagnostic customers.  \\n• Improve public search feature including for the location of accredited veterinarians . \\nObjective 1.2 :  Maintain a high performing workforce through employee engagement and \\nempowerment, and provide a safe workplace.  \\nTactics to achieve the objective:  \\n• Invest in developing effective and talented managers, along with  building fundamental \\nmanagement practices that improve employee engagement, performance,  recruitment, \\nretention and work life  quality.  \\n• Increase the value of engagement by encouraging management to focus on talent production resulting from coaching and development that is based on people’s strengths, placing them in positions to take advantage of these strengths, and giving feedb ack that build on these strengths.  \\n• Enhance the leadership skills of current APHIS leaders and dev elop a cadre of future \\nleaders.  \\n• Improve APHIS leadership accountability by ensuring equal opportunity accountability assessments are submitted timely,  consiste ntly, and accurately.  \\n• Enhance employee satisfaction by communicating realistic expectations, providing \\nopportunities for professional development , both within APHIS and outside of the \\nAgency, and opportunities for career progression.  7 \\n • Increase the percentag e of APHIS employees with Individual Development Plans and \\nLearning Contracts.  \\n• Develop and m onitor employee development to ensure both the organization and \\nemployee are benefitting from learning opportunities . \\n• Encourage innovation from employees  to enhance workplace environment and mission \\ndelivery . \\n• Renew and enhance our co mmitment to safety and health. Provide a workplace with \\nzero tolerance for harassing, threatening, and violent behavior.  \\n• Continue knowledge management initiatives to assist wit h succession planning.  \\n• Enable leaders and managers to align workforce skills with mission needs, including \\nreskilling and redeploying exisiting workers . \\nObjective 1.3 :  Remove obstacles in APHIS programs by reducing regulatory burden and \\nstreamlining processes.  \\nTactics to achieve the objective:  \\n• Review and identify regulations not supported by  current science and practices.  \\n• Continue streamlining and deregulatory processes to reduce the burdens on stakeholders to comply with regulations not supported by current science or practices.  \\n• Reinstate an internal executive regulatory management group of executive leaders to \\nidentif y agency’s regulatory needs early and track them t hrough approval and \\npublication.  \\n• Continue to move forward with the VS laboratory approval consolidation initiative  in \\norder to simplify the process for gaining laboratory approval.  \\n• Continue to review and improve business line processes to ensure the delivery of the services and products to customers and/or stakeholders is efficient, ti mely, and cost \\neffective.  \\nObjective 1. 4:  Maximize the return on taxpayer investment through stewardship of resources \\nand focused program evaluations.  \\nTactics to achieve the objective:  \\n• Prioritize the delivery of program services to customers, align a gency staffing \\naccordingly, and right size  the size of the agency’s permanent workforce.  \\n• Deliver greater consistency and continuity to the review, approval, and operations of all APHIS Federal Advisory Committees.  \\n• Optimize use of hiring flexibilities for temporary and TERM employees to leverage \\ncooperator -provided funding.  \\n• Enhance the a gency’s use of performance data and program evaluation results to drive \\ndecisions.  \\n• Continue to reduce the footprint of leased and owned real property assets through \\nconsolid ations  and co-locations . \\n• Increase cross -program coordination on the acquisition and use of APHIS fleet vehicles \\nto maximize use.  8 \\n • Identify and implement additional procurement opportunities suitable for strategic \\nsourcing within the a gency and the Department.  \\n• Seek opportunities to provide administrative support services thr ough shared service \\noperations.  \\nObjective 1. 5:  Leverage workforce difference s to better serve the Agency’s customers.  \\nTactics to achieve the objective:  \\n• Ensure employees understand the needs of all agency partners, stakeholders, and customers . \\n• Focus on new strategies and allocate resources t o expand the traditional stakeholder \\nbase, and establish effective service delivery methods for groups that do not ha ve \\naccess to services and technology.  \\n• Hold APHIS’ leaders, managers, supervisors  and employees accountable for treating the \\nagency’s customers and employees in accordance with USDA’s and APHIS’ civil rights \\npolicies and applicable laws.  \\n• Ensure all customers equal access to programs, activities, and services delivered or funded by USDA and APHIS.  \\n• Provide a workplace that is free of discrimination.  \\n• Enhance the diversity of the workforce through focused recruitment and retention \\nefforts.  \\n• Use the alternative dispute resolution (AD R) process, whenever possible.  \\n• Promote procurement with small businesses, small disadvantaged businesses, and minority owned businesses.  \\n• Enhance special emphasis programs to expand diversity awareness and to increase \\nemployee understanding  of minority, small, or disadvantaged customer needs . \\nGoal 2.   Safeguard American agriculture  \\nAmerican agriculture faces many threats from foreign and domestic pests and diseases, which \\nhave  the potential to negativ ely impact  animal and plant agricultural production, trade , and the \\neconomy . Identifying these threats early enables APHIS  to anticipate potential outbreaks and to \\nact appropriately to prevent entry and prolonged damage  if there is an incursion . Because \\nthese threats are ever -changing, APHIS adjusts it strategies for identifying these  pests and \\ndiseases and applying appropriate mitigation  measures . \\nBy working collaboratively with its stakeholders and partners, APHIS maintain s the capacity and \\ncapa bility to rapidly respond to an agricultural pest or disease outbreak. APHIS also actively \\nengages other Federal agencies, State, Tribal, local governments, and industry to advance their \\nemergency preparedness and response capabilities. If a pest or diseas e is established in the \\ncountry, APHIS works with its stakeholders and partners to eradicate the pest or disease, or \\nwhere eradication is not feasible, to manage the pest or disease, minimizing its impact to the economy.  9 \\n APHIS also manages damage or other conflicts cause d by wildlife, detects and controls wildlife \\ndiseases, and protects natural resources. APHIS will continue to ensure the safety, purity, and \\neffectiveness of veterinary biologics and provide oversight of genetically engineered organisms. APH IS also conducts diagnostic laboratory activities to support the agency’s veterinary disease \\nprevention, detection, control, and eradication programs, and provides technology development to support plant protection programs. The agency will also conduct pr ogram \\noperations to ensure the humane care and treatment of vulnerable animals covered under the Animal Welfare Act and the Horse Protection Act.  \\nAPHIS  must balance its safeguarding efforts against increasing requests for market access by \\ninternational trading partners for agricultural products. The A gency make s trade safe by \\nexamining disease and pest risks and inserting mitigation strategies into international agreement s and interstate movement protocols . This reduc es the risk of unsafe agricultural \\nimported products entering the United States and negatively impacting U.S.  agricultur al \\nresources . Helping other countries under the Global Health Security Agenda build capac ity for \\nearly detection helps protect the U.S. agricultural enterprises.  \\nObjective 2.1 :  Prevent damaging plant and animal pests and diseases from entering and \\nspreading in the United States to promote plant and animal health.  \\nTactics to achieve the objective:  \\n• Monitor feral swine populations along the northern and southern borders with Canada \\nand Mexico respectively for selected feral swine diseases of concern to US pork \\nproducers.  \\n• Maintain the screwworm barrier at the Darien Gap of Panama.  \\n• Maintain a sterile Medfly barrier in Guatemala preventing the northward movement \\ninto Chiapas, Mexico and the Yucatan, including Belize . \\n• Produce and provide sterile Medfly pupae to support preventive release operations in \\nhigh -risk areas in Florida and California.  \\n• Collaborate and work with  states, f oreign governments , and international partners  to \\nreduce risk pathways; support disease and pest- free zones and animal and plant pest \\nand disease pathway analyses and risk assessments; identify sources of introductions and determine mitigations to prevent new introductions; obtain timely information on \\npests, diseases, trends and changing risk patterns; monitor and prevent the spread and introduction of pests and diseases; and develop regional cooperation and awareness.  \\n• Collaborate with Canada to monitor for raccoon rabies variant and preve nt the re -\\nemergence of raccoon rabies along the broader landscape in Canada, monitor for canine rabies along the Texas -Mexico border to prevent the re -emergence of canine rabies in \\nTexas, w hile continuing to monitor for the emergence of vampire bat rabies along the \\nsouthern US borders with Mexico.  \\n• Provide technical expertise and leadership to global and regional animal and plant health organizations in their efforts to support local, regiona l, and global pest and \\ndisease control and erad ication efforts.  10 \\n • Partner with other Federal agencies to fund, design, develop, and deliver animal and \\nplant pest and disease training to foreign counterparts  and to leverage infrastructure \\noverseas and provide  training and technical assistance on animal, plant and zoonotic \\ndiseases.  \\n• Engage in capacity building activities to promote efficient use of exporting countries’ \\nSanitary and Phytosanitary (SPS ) infrastructure, technical capacities, and inspection \\nprocess es to safeguard agricultural exports destined to the U nited States.  \\n• Conduct evaluations of the animal health status of countries and regions in response to \\ntheir requests, completing risk assessments and regulatory recognition as appropriate. \\nConduct reviews of countries and regions that have been previously granted animal \\nhealth status recognition.  \\n• Conduct risk assessments for permits  for imported veterinary biologics, thereby assuring \\nthat risks of foreign animal disease threats are mitigated.  \\n• Coordi nate a formal comprehensive countermeasures program to include: updating and \\nmain taining a list of priority high -consequence diseases or pests ; providing guidance on \\nresearch needs and reviewing proposals; and providing guidance on purchasing (stocking) an d on diagnostic preparedness priorities including surge capabilities.  \\n• Partner with other reference laboratories around the world to advance collective expertise in diagnostics, including partnering with Canada and Mexico to  harmonize \\ndiagnostic methods.  \\n• Provide —through the National Veterinary Services Laboratories —national and \\ninternational leadership on diagnostic techniques, assays, and new technologies, serving as the World Organi zation  for Animal Health (OIE) reference laboratory and as USDA’s \\nreferen ce laboratory.  \\n• Conduct disease surveillance to identify incursions of pests and diseases of concern, evaluating and improving surveillance for  the most significant foreign animal diseases . \\n• Work with Texas to maintain a permanent quarantine buffer preventin g cattle fever \\nticks from becoming established in the United States . Col laborate with Mexico to \\nsupport cattle fever tick free zone(s) in Mexico, reducing risks of introduction at land \\nborder ports.  \\n• Apply molecular diagnostic capabilities to plant pest  and animal disease  identification as \\na means to achieve efficiencies, improve consistency, and increase the precision of diagnostic services and associated quarantine or response decision -making.  \\n• Manage inspections at Plant Inspection Stations (PIS) through Risk Based Sampling (RBS) to reduce inspections of low -risk shipments and proportionally increase inspections of \\nhigher -risk consignments.  \\n• Develop the Regulatory Framework for Seed Health (ReFreSH) to prevent the introduction of seed borne pests using a  systems approach for imported seed.  \\n• Streamline the importation of plant cuttings produced in approved offshore facilities to expedite the entry of low -risk cuttings while refocusing APHIS inspectors on higher risk \\nimports.  \\n• Address the threat of invasive pests and diseases associated with the international movement of sea containers to mitigate pest risks associated with the sea container \\npathway.  11 \\n • Strengthen the North American perimeter against pest threats from outside the region \\nto prevent the introductio n of agricultural, forest, and other invasive pests . \\n• Prevent the sale of prohibited plant material via the internet or e -commerce . \\n• Address gaps identified in the U.S. Joint External Evaluation (JEE).  \\nObjective 2.2 :  Manage plant and animal pests and diseases once established in the United \\nStates to promote plant and animal health.  \\nTactics to achieve the objective:  \\n• Work with the associated livestock industries to develop, implement, and enhance \\nrational, affordable biosecurity programs to protect the h ealth, wellbeing, and economic \\nsecurity of the livestock and poultry industries and the rural economies driven by those \\nindustries.  \\n• Understand antibiotic use in livestock, conduct surveillance of antibiotic drug susceptibility of selected bacterial organis ms, and monitor antimicrobial resistance in \\nanimals over time.  \\n• Strengthen partnerships to develop strategies to control and potentially eradicate harmful plant and animal pests and diseases through effective and innovative education, surveillance, and border control efforts.  \\n• Collaborate with industry, Tribes, and States to develop approaches that take advantage \\nof best management and husbandry practices to minimize the damage and spread of \\nplant and animal diseases.  \\n• Implement innovative strategies to co ntrol diseases through testing, identifying, and \\nremoving infected and high- risk exposed animals without having to depopulate entire \\nherds . \\n• Implement the Emerging Animal Disease Preparedness and Response Plan . \\n• Fully implement  Animal Disease Traceability (ADT)  and make significant progress in \\ndemonstrating and delivering value to producers for complying with the framework.  \\n• Advance One Health goals by continuing to identify and work with relevant partners to \\naddress zoonotic disease issues and incidents; fi nalize operating procedures for \\nconducting on- farm epidemiologic investigations; and continue to build and expand \\nupon university partnerships to leverage international networks.  \\n• Implement the National List of Reportable Animal Diseases.  \\n• Deploy mobile data  collection tools and transfer capabilities for data retrieval to \\noptimize  internal IT development resources to build stronger domestic pest \\nmanagement and trade safety missions . \\n• Improve poultry and po ultry products under the National Poultry Improvement Plan \\n(NPIP) by applying new technologies.  \\n• Strengthen the efficiency and effectiveness of programs for pest detection , mitigation, \\nand wildlife damage assessments through the use of U nmanned Aircraft System (UAS)  \\nand environmental DNA  technolog ies. \\n• Train ca nine teams for early detection of pests and disease to more precisely target \\nplant management and eradication activities in domestic programs.  \\n  12 \\n Objective 2.3 :  Ensure effective emergency preparedness and response systems.  \\nTactics to achieve the objective:  \\n• Partner with stakeholders and customers to evaluate response options and update \\nresponse plans, adjusting for changing agricultural production systems and societal \\nexpectations (e.g., the potential for expanded use of vaccination as a response tool for FMD). \\n• Develop emergency preparedness responses  for pest and disease outbreaks that include \\nensuring resources are available and personnel are trained . \\n• Assist industry in the design of secure food supply plans to ensure business continuity \\nduring disease outb reaks.  \\n• Develop and use models to enhance emergency preparedness and response.  \\n• Build upon APHIS’ animal and plant health networks to deal wit h pest and disease \\nemergencies.  \\n• Continue to expand capabilities of the National Animal Health Laboratory Network.  \\n• Coordinate with stakeholders and other Federal agencies on all -hazards agriculture and \\nnatural resources response support (Emergency Support Function #11 of the National \\nResponse Framework ). Use APHIS animal and plant health networks, capabilities, and \\nstructures to support State, local, territorial, and Tribal governments as they assist with \\nanimal and agricultural emergency management.  \\n• Evaluate and improve preparedness for the most significant foreign animal diseases as \\nidentified by stakeholders and partners.  \\n• Expedite animal disease traceability  by working with states to optimize the ir trace \\nexercise performance metrics to enhance  rapid response to disease control.  \\n• Enhance data collection, quality, and reporting systems for emergency response \\nthrough m odernization of infrastructure, information technology, and integration.  \\n• Design training and exercise plans to enhance the preparedness of APHIS and its partners to respond to livestock and poultry health incidents, as well as other hazards that include One Health and zoonotic disease preparedness and response trainings.  \\n• Identify priorities and develop strategies around emergency preparedness and response \\nexercises and other training . \\nObjective 2. 4:  Manage conflicts caused by wildlife, detect and control wildlife diseases, and \\nprotect  agricultural and  natural resources.  \\nTactics to achieve the objective:  \\n• Develop and implement science -based, effective, and practical methods and new \\ntechnology for eliminating and managing wildlife damage and threats posed by diseases to agricultural resources, livestock, property, human health and safety, and natural resources. Emphasi ze the development of methods that present a low environmental \\nburden and a high degree of species -specificity.  \\n• Expand feral swine damage manage ment for agricultural, livestock, property, ecological, \\nand human health and safety purposes . 13 \\n • Provide Federal leadership to industry , organizations,  and natural resource agencies for \\nan effective, ecologically sound , and socially responsible integrated wildlife damage \\nmanagement program that is responsive to changes in agriculture, the livestock \\nindustry, natural resource agencies, wildlife populations, and societal values.  \\n• Advance One Health goals by s trategically focus ing on  wildlife  disease and invasive \\nspecies surveillance capacity and control on issues of greatest importance in volving  \\nwildlife . \\n• Expand and improve collaborative efforts to enhance public safety within the aviation \\ncommunity through the implementation of science -based assistan ce by investigating \\nmethods and addressing wildlife hazards that meet continuing demands for safe air \\noperations of civil and military partners, the aviation industry and travelling public.  \\n• Enhance coordination and collaboration in research and management to prevent the spread of key terrestrial rabies variants in wild carnivores while working toward elimination of rabies in carnivores in North America.  \\n• Provide outreach to State, Tribal, and international partners, and the general public \\nabout APHIS’ role i n reducing conflicts between humans and wildlife, detect ing and \\ncontrol ling wildlife diseases, and protect ing natural resources.  \\nObjective 2. 5:  Ensure the safety, purity, and effectiveness of veterinary biologics and protect \\nplant health by optimizing our  oversight of genetically engineered (GE) organisms.  \\nTactics to achieve the objective:  \\n• Modernize APHIS’ biotechnology regulatory framework to ensure the most effective, \\nscience -based approach for regulating the products of biotechnology on the basis of \\nrisks to plant health.  \\n• Improve processes to produce greater predictability and more timely completion of regulatory oversight.  \\n• Improve compliance through rigorous inspection and c ompliance assistance programs.  \\n• Pursue alternatives to rulemaking that optimize our oversight of GE organisms.  \\n• Provide outreach to State, Tribal, and international partners, and the general public about APHIS’ role regarding GE organisms.  \\n• Streamline processes of evaluating, testing, and licensing veterinary biologics products \\nused to diagnose, prevent, and treat animal diseases to safely move important new technolo gy to the market faster.  \\n• Explore new veterinary biologics licensing pathways and implement more efficient methods of regulating current, low -risk veterinary biologics products  (e.g., antibody \\nproducts)  and other non -traditional products . \\n• Refine and enhance an electronic system for processing biologic licensing requests and \\nfor notifying manufacturers when biologic serials are approved for the marketplace.  \\n• Participate in the Coo rdinated Framework for Regulation of Biotechnology.  \\n  14 \\n Objective 2. 6:  Provide and coordinate timely diagnostic laboratory support and services.  \\nTactics to achieve the objective:  \\n• Provide leadership and coordinate with other partners on diagnostic techniques, assays, \\nand new technologies including scientific computing to support greater use of genomics \\nand bioinformatics.  \\n• Coordinate with the Department of Homeland Security ( DHS ) and other partners to \\naddress timeliness of diagnostic capabilities for early detection of high consequence diseases.  \\n• Partner with the National Institute of Food and Agriculture and the American \\nAssociation of Veterinary Laboratory Diagnosticians to enhan ce Federal, university, and \\nState laboratory resources in the National Animal Health Laboratory Network.  \\n• Implement the APHIS National Bio and Agro -Defense Facility (NBAF) workforce \\ndevelopment plan to ensure sufficient foreign animal disease diagnostic sub ject matter \\nexpert ise to establish  VS operations at the NBAF , capture diagnostic institutional \\nknowledge , and successfully complete the transition of VS operations from the Plum \\nIsland Animal Disease Center to the NBAF.  \\n• Adhere to the principles of quality assurance and conform to the requirements of ISO \\n17025 for testing and calibration activities, ISO 17034 for reference material production, \\nISO 17043 for proficiency test production, ISO 9001 for products and services, and any other relevant ISO guides or requirements.  \\n• Participate in the interagency consortium of laboratory networks to foster the exchange of data and bioinformatics and facilitate disease detection and response.  \\nObjective 2. 7:  Ensure the humane treatment of vulnerable covered animals . \\nTactics to achieve the objective:  \\n• Coordinate with the Agricultural Research Service (ARS ) to assure adherence to animal \\ncare guidelines to enhance and enable agriculture production research while meeting \\npublic expectation for animal care.  \\n• Combine appropriate inspection and enforcement activities with greater learning \\nopportunities to protect vulnerable animals.  \\n• Review companion animal programs to assure we are effectively partnering  with state \\nregulatory agencies.  \\n• Expand the AWA -licensing exemptions for de alers and exhibitors whose size of business \\nis de minimis, through rulemaking . \\n• Revise the licensing regulations to better promote sustained compliance, reduce \\nlicensing fees, and strengthen existing safeguards , through rulemaking . \\n• Complete a pilot project using the Business Process Improvement framework to \\ndetermine whether a blended use of announced and unannounced inspections improves compliance and working relationships at regulated facilities.  \\n• Ensure and maintain an effective emergency management point -of-contact program.  \\n• Update selected content in the National Veterinary Accreditation Program’s training \\nmaterials.  15 \\n Goal 3 .  Facilitate safe U.S. agricultural exports  \\nAPHIS plays a vital role in facilitating the safe flow of agricultural trade. The agency strives to \\nensure that U.S. producers and exporters can sell safe, wholesome food and agricultural \\nproduc ts around the world. Sales from these exports promote the U.S. economy and sustain \\nmillions of well -paying jobs for Americans. APHIS' efforts include k eeping U.S. agricultural \\nindustries free from pests and diseases , certifying that the millions of U.S. agricultural and food \\nproducts shipped to markets abroad meet the importing countries' entry requirements , \\npartnering with other  countries  to develop international standards, removing trade barriers \\nthrough monitoring and enforcing existing trade agreements, and negotiating new trade \\nagreements that benefit the U.S. ag ricultural economy.  \\nAPHIS will continue to work with foreign countries that lack the capa city to conduct required \\nrisk assessments and other activities needed to engage in agricultural trade to build animal and plant health regulatory capacity. Helping other countries strengthen regulatory capacity allows them to participate in safe agricultur al trade and prevent the spread of pests and diseases \\nbeyond their borders. Ultimately, these activities will help protect the United States from foreign pests and diseases as well as potentially lead to new export oppor tunities in the future.  \\nObjective 3. 1:  Create export opportunities for American producers . \\nTactics to achieve the objective:  \\n• Identify strategic opportunities for removing or reducing trade barriers that impact market retention, access, and expansion of U.S. agricultural products.  \\n• Work closely with the National Association of State Departments of Agriculture, industry \\npartners, and key international counterparts to better understand the changing profiles \\nof business and commerce and their relationship to SPS  issues.  \\n• Play an active role in supporting U.S. Government ( USG ) negotiations and renegotiations \\nof free trade agreements.  \\n• Promote the development and worldwide implementation of science -based trade \\nstandards to ensure a safe, fair, predictable trade system and a level playing fie ld for \\nU.S. products abroad. This includes providing le adership and scientific expertise to OIE , \\nIPPC, and regional plant protection organizations to promote  scien ce-based  standards  \\nfor animal and plant health  and welfare . \\n• Provide technical assistance and support to emerging market countries on \\nimplementing international standards.  \\n• Provide technical assistance to foreign regulatory counterparts to improve their capacity \\nto implement scientifically sound regulations that affect U.S. exports.  \\n• Provide outreach to State, Tribal, underserved communities and the general public \\nabout APHIS’ role regarding expanding/participating in international trade . 16 \\n Objective 3.2 :  Ensure resolution of sanitary and phytosanitary issues and trade barriers.  \\nTactics  to achieve the objective:  \\n• Iden tify and prioritiz e resolution of plant and animal trade issues with all trading \\npartners.  \\n• Play an active role in the USG delegation to the WTO -SPS Committee.  \\n• Work with other Federal agencies (USTR, State Department, FSIS, an d FAS) to develop \\nstrategies to engage trading partners that continue to impose unjustified plant or animal \\nhealth -related restrictions.  \\n• Engage trading partners in discussions and negotiations of forward- looking \\nregionalization agreements that can limit trade restrictions in the face of a significant disease outbreak.  \\n• Engage U.S. exporters and other countries to eliminate Avian Influenza  (AI) barriers  to \\nexport markets  by initia ting animal health discussions.  \\n• Work collaboratively with state and industry to address gaps in animal disease traceability that impact trade.  \\n• Fully deploy the service center concept for meeting animal and animal product exporter’s certification needs, allowing for more timely and consistent service.  \\n• Improve compliance of federal e xport and sanitary activities performed by accredited \\nveterinarians  by designing effective and targeted education, outreach, and e -messaging \\nmaterials  and standardizing and coordinating enforcement actions . \\n• Expand notification systems to accredited veterin arians who have allowed their \\naccreditation to expire to include SMS (text) messaging and telephone calling.  \\n• Facilitate the export of veterinary biological products through the issuance of \\nCertificates of Licensing and Inspection.  \\n• Demonstrate to trading pa rtners that our regulations have the same results as Good \\nManufacturing Practices (GMP) regulations by addressing “quality” in our regulations. \\nThis will make it easier for trading partners to find specific GMP requirements to help facilitate the export of  biologics . \\n• Inspect and clear livestock, poultry, and germplasm at ports of en try consistent with \\nregulations.  \\n• Advance the adoption and implementation of electronic certification (ePhyto) to make certificate exchange fast, efficient, and fraud- resistant . \\n• Conduct technical meetings with trading partners to establish fair, practical, science -\\nbased plant health requirements for commodity imports and exports . \\n  17 \\n Appendices  \\nAppendix A:  Performance Measures  \\n Actual  Target  \\nPerformance Measure  FY 2017  FY 2018  FY 2019  \\nGoal 1  \\nNumber of APHIS data centers (1.1)  4 2 0 \\nPercentage of employees with IDPs and/or Learning \\nContracts (1.2)  32%  40%  47%  \\nNumber of permanent APHIS employees (1.2)  5,853  5,753  5,853  \\nNumber of formal process improvement projects \\ncompleted annually  (1.3)  7 3 3 \\nNumber of deregulatory actions published  (1.3)  11 10 15 \\nGoal 2  \\nPercent of incoming propagative plant material \\nconsignments arriving at a plant inspection station cleared \\nusing risk -based sampling protocol. (2.1)  N/A 20%  60%  \\nPercent  of high- risk target pests on the Cooperative \\nAgricultural Pest Survey (CAPS) Priority Pest List for which \\nsurveys were conducted (2.1)  96%  93%  80%  \\nValue of livestock, poultry, and specialty crops protected \\nby APHIS animal and health and specialty crop pest \\nprograms  (2.2)  $193 \\nbillion  $193 \\nbillion  $193 \\nbillion  \\nTotal elapsed time to conduct Traceability Performance \\nMeasures (TPM) . This is the sum of average d elapsed time s \\nto complete three TPM activities in participating states . \\n(2.2)  72 hours  70 hours  68 hours  \\nNumber of on- farm longitudinal visits to gather \\nAntimicrobial Resistance (AMR) use and resistance data (2.2)  0 0 10 \\nNumber of hours it takes to mobilize resources once it is \\ndetermined that a Federal emergency response is needed \\nto manage an agricultural outbreak (2.3)  24 24 24 \\nNumber of states where feral swine populations were \\nreduced or eliminated (2.4)  1 1 1 \\nNumber of methods developed that reduce damage causes \\nby wildlife to agriculture, human safety, property, and \\nnatural resources (2.4)  17 17 17 \\n 18 \\n  Actual  Target  \\nPerformance Measure FY 2017  FY 2018  FY 2019  \\nCumulative number of biotechnology products deregulated \\nby USDA and available to market  (2.5)  127 128 129 \\nPercent of field release sites in compliance with \\nbiotechnology regulations designed to protect agriculture \\nfrom plant pests  (2.5)  90%  90%  90%  \\nNumber of Animal Diagnostic Laboratories collabor ating in \\nthe development of laboratory network component for \\nantimicrobial susceptibility testing efforts (2. 6) 31 35 38 \\nPercent of licensees inspected and registrants in \\nsubstantial compliance of the Animal Welfare Act  (2.7)  96%  96%  96%  \\nPercent of facilities determined to be in substantial \\ncompliance at the first announced inspection after \\nreceiving a license (conducted 6 to 9 months later)  (2.7)  95%  95%  95%  \\nGoal 3  \\nValue of retained, expanded, and new country access for \\nagricultural products (in billions) (3.1)  $2.6  $2.6  $2.6  \\nNumber of international and regional standards that have \\nbeen adopted or substantially progressed (3.1)  9 10 10 \\nNumber of international and regional initiatives that have \\ncontributed to global harmonization  7 5 5 \\nNumber of shipments released (in foreign ports of entry) \\nas a result of APHIS intervention  (3.2)  275 275 275 \\nNumber of ePhytos issued from trading partners ( 3.2) 5,731  4,772  10,000  \\nNumber of ePhytos received from trading partners (3.2)  6,092  3,967  10,000  \\nNumber of resolved SPS issues with foreign trading \\npartners to benefit U.S. export markets  (3.2)  15 18 18 \\nNumber of technical meetings with NPPOs to meet \\nestablished, new, or modified entry requirements for U.S. \\nproducts (3.2)  10 8 6 \\n \\n \\n \""
      ]
     },
     "execution_count": 91,
     "metadata": {},
     "output_type": "execute_result"
    }
   ],
   "source": [
    "pdfs[28]"
   ]
  },
  {
   "cell_type": "code",
   "execution_count": null,
   "metadata": {},
   "outputs": [],
   "source": [
    "for p_index in range(len(pdfs_clean)):\n",
    "    if pdfs_clean[p_index] in pdfs:\n",
    "        temp_pdf = pdfs_clean[p_index]\n",
    "        encoding = tiktoken.get_encoding(\"cl100k_base\")\n",
    "        encoded = encoding.encode(temp_pdf)\n",
    "        temp_formatted = []\n",
    "        for j in range(0, len(encoded), 15000): \n",
    "            temp_formatted.append(gpt_format_document(chain, encoding.decode(encoded[j:j+15000])))\n",
    "        pdfs_clean[p_index] = \" \".join(temp_formatted)\n",
    "        print(f\"Done with {p_index}\")\n",
    "        "
   ]
  },
  {
   "cell_type": "code",
   "execution_count": 33,
   "metadata": {},
   "outputs": [],
   "source": [
    "pdfs_split = [splitter.create_documents([p]) for p in pdfs_clean]"
   ]
  },
  {
   "cell_type": "code",
   "execution_count": 34,
   "metadata": {},
   "outputs": [
    {
     "data": {
      "text/plain": [
       "17"
      ]
     },
     "execution_count": 34,
     "metadata": {},
     "output_type": "execute_result"
    }
   ],
   "source": [
    "len(pdfs_split[0])"
   ]
  },
  {
   "cell_type": "code",
   "execution_count": 183,
   "metadata": {},
   "outputs": [],
   "source": [
    "from pinecone import Pinecone\n",
    "pc = Pinecone(api_key=\"d42f1895-2cea-49a9-b83a-baeb8fef8f57\") # Was having issues with using dotenv variable for this, so I just pasted it into my code. "
   ]
  },
  {
   "cell_type": "code",
   "execution_count": 199,
   "metadata": {},
   "outputs": [],
   "source": [
    "index_name = \"law\"\n",
    "index = pc.Index(index_name)"
   ]
  },
  {
   "cell_type": "code",
   "execution_count": 201,
   "metadata": {},
   "outputs": [
    {
     "data": {
      "text/plain": [
       "{'dimension': 1536,\n",
       " 'index_fullness': 0.0,\n",
       " 'namespaces': {},\n",
       " 'total_vector_count': 0}"
      ]
     },
     "execution_count": 201,
     "metadata": {},
     "output_type": "execute_result"
    }
   ],
   "source": [
    "index.describe_index_stats()"
   ]
  },
  {
   "cell_type": "code",
   "execution_count": 43,
   "metadata": {},
   "outputs": [],
   "source": [
    "import random\n",
    "random.seed(42)"
   ]
  },
  {
   "cell_type": "code",
   "execution_count": 44,
   "metadata": {},
   "outputs": [],
   "source": [
    "total_docs = []\n",
    "for split_index in range(len(pdfs_split)):\n",
    "    fname = pdfs[split_index]\n",
    "    docs = pdfs_split[split_index]\n",
    "    for doc in docs:\n",
    "        total_docs.append({\"content\": doc.page_content}) # May need to add other metadata later, so I have created separate arrays total_docs and total_docs_content_only"
   ]
  },
  {
   "cell_type": "code",
   "execution_count": 66,
   "metadata": {},
   "outputs": [],
   "source": [
    "total_docs_content_only = [d[\"content\"] for d in total_docs]"
   ]
  },
  {
   "cell_type": "code",
   "execution_count": 55,
   "metadata": {},
   "outputs": [],
   "source": [
    "from openai import OpenAI"
   ]
  },
  {
   "cell_type": "code",
   "execution_count": 56,
   "metadata": {},
   "outputs": [],
   "source": [
    "client = OpenAI(api_key=OPENAI_API_KEY)"
   ]
  },
  {
   "cell_type": "code",
   "execution_count": 73,
   "metadata": {},
   "outputs": [],
   "source": [
    "all_embeddings = []"
   ]
  },
  {
   "cell_type": "code",
   "execution_count": 74,
   "metadata": {},
   "outputs": [],
   "source": [
    "import time"
   ]
  },
  {
   "cell_type": "code",
   "execution_count": 82,
   "metadata": {},
   "outputs": [
    {
     "name": "stdout",
     "output_type": "stream",
     "text": [
      "Done with group 1\n",
      "Done with group 1\n",
      "Done with group 1\n",
      "Done with group 1\n",
      "Done with group 1\n",
      "Done with group 1\n",
      "Done with group 1\n",
      "Done with group 1\n",
      "Done with group 1\n",
      "Done with group 1\n",
      "Done with group 1\n",
      "Done with group 1\n",
      "Done with group 1\n",
      "Done with group 1\n",
      "Done with group 1\n",
      "Done with group 1\n",
      "Done with group 1\n",
      "Done with group 1\n",
      "Done with group 1\n",
      "Done with group 1\n",
      "Done with group 1\n",
      "Done with group 1\n",
      "Done with group 1\n"
     ]
    }
   ],
   "source": [
    "for i in range(0, len(total_docs_content_only), 2000):\n",
    "    all_embeddings.append(client.embeddings.create(input=total_docs_content_only[i:i+2000], model=\"text-embedding-3-small\"))\n",
    "    time.sleep(60) # Timeout for OpenAI embedding rate limit."
   ]
  },
  {
   "cell_type": "code",
   "execution_count": 191,
   "metadata": {},
   "outputs": [],
   "source": [
    "to_add = []"
   ]
  },
  {
   "cell_type": "code",
   "execution_count": 192,
   "metadata": {},
   "outputs": [],
   "source": [
    "counter = 0\n",
    "for i in all_embeddings:\n",
    "    d = i.data\n",
    "    for e in d:\n",
    "        to_add.append(\n",
    "            {\n",
    "                \"id\": str(counter),\n",
    "                \"values\": e.embedding,\n",
    "                \"metadata\": {\n",
    "                    \"content\": total_docs_content_only[counter]\n",
    "                }\n",
    "            }\n",
    "        )\n",
    "        counter += 1"
   ]
  },
  {
   "cell_type": "code",
   "execution_count": 202,
   "metadata": {},
   "outputs": [
    {
     "data": {
      "text/plain": [
       "45595"
      ]
     },
     "execution_count": 202,
     "metadata": {},
     "output_type": "execute_result"
    }
   ],
   "source": [
    "len(to_add)"
   ]
  },
  {
   "cell_type": "code",
   "execution_count": 203,
   "metadata": {},
   "outputs": [],
   "source": [
    "for i in range(0, len(to_add), 100):\n",
    "    index.upsert(to_add[i:i+100])"
   ]
  },
  {
   "cell_type": "code",
   "execution_count": 332,
   "metadata": {},
   "outputs": [],
   "source": [
    "prompt = \"If I want to spray pesticides on my farm in California but do not do so regularly, do I have to pay a fee to get my license?\"\n",
    "# hyde = chain.invoke(f\"Write a law-style response to the following question: {prompt}\")\n",
    "query = client.embeddings.create(input=prompt, model=\"text-embedding-3-small\")"
   ]
  },
  {
   "cell_type": "code",
   "execution_count": 333,
   "metadata": {},
   "outputs": [],
   "source": [
    "query_embedding = query.data[0].embedding"
   ]
  },
  {
   "cell_type": "code",
   "execution_count": 334,
   "metadata": {},
   "outputs": [],
   "source": [
    "results = index.query(\n",
    "    vector=query_embedding,\n",
    "    top_k=3\n",
    ")"
   ]
  },
  {
   "cell_type": "code",
   "execution_count": 335,
   "metadata": {},
   "outputs": [],
   "source": [
    "results_ids = [r[\"id\"] for r in results[\"matches\"]]"
   ]
  },
  {
   "cell_type": "code",
   "execution_count": 336,
   "metadata": {},
   "outputs": [],
   "source": [
    "fetch_results = index.fetch(results_ids)[\"vectors\"]"
   ]
  },
  {
   "cell_type": "code",
   "execution_count": 337,
   "metadata": {},
   "outputs": [],
   "source": [
    "fetch_results\n",
    "content = [fetch_results[k][\"metadata\"][\"content\"] for k in dict.keys(fetch_results)]"
   ]
  },
  {
   "cell_type": "code",
   "execution_count": 338,
   "metadata": {},
   "outputs": [],
   "source": [
    "newline = \"\\n\""
   ]
  },
  {
   "cell_type": "code",
   "execution_count": 339,
   "metadata": {},
   "outputs": [],
   "source": [
    "response = chain.invoke(f\"A user asked the following question: {prompt}{newline}Using the following documents as context, respond to the question. Avoid providing overly-technical answers and instead focus on the main context.{newline}{newline.join(content)}\")"
   ]
  },
  {
   "cell_type": "code",
   "execution_count": 340,
   "metadata": {},
   "outputs": [
    {
     "name": "stdout",
     "output_type": "stream",
     "text": [
      "If you are not regularly engaged in the business of pest control and only operate in the vicinity of your own property and for the accommodation of your neighbors in California, you are not required to pay the fee specified by Section 11703 to get a license. However, you still need to procure a license and register with the commissioner as provided in Section 11732. You will be subject to all other provisions of the division related to pesticide regulation. So, in this case, you would not have to pay a fee for your license, but you still need to go through the licensing process.\n"
     ]
    }
   ],
   "source": [
    "print(response)"
   ]
  },
  {
   "cell_type": "code",
   "execution_count": 342,
   "metadata": {},
   "outputs": [],
   "source": [
    "import numpy as np\n",
    "from numpy.linalg import norm"
   ]
  },
  {
   "cell_type": "code",
   "execution_count": 343,
   "metadata": {},
   "outputs": [],
   "source": [
    "def cosine_sim(v1, v2):\n",
    "    return np.dot(np.array(v1), np.array(v2))/(norm(np.array(v1))*norm(np.array(v2)))"
   ]
  },
  {
   "cell_type": "code",
   "execution_count": 359,
   "metadata": {},
   "outputs": [
    {
     "name": "stdout",
     "output_type": "stream",
     "text": [
      "0.9838699100999074\n"
     ]
    }
   ],
   "source": [
    "print(cosine_sim([1, 2], [3, 4]))"
   ]
  },
  {
   "cell_type": "code",
   "execution_count": 386,
   "metadata": {},
   "outputs": [],
   "source": [
    "# Following is no longer needed thanks to Ragas.\n",
    "# def answer_relevance(response, actual_question, n=5):\n",
    "#     generated_questions = json.loads(client.chat.completions.create(model=\"gpt-3.5-turbo\", messages=[{\"role\": \"user\", \"content\": f\"Generate {n} questions that a farmer might ask that would have the following response: {response}\"}], tools=tools).choices[0].message.tool_calls[0].function.arguments)[\"questions\"]\n",
    "#     generated_embeddings = client.embeddings.create(input=generated_questions, model=\"text-embedding-3-small\")\n",
    "#     actual_embeddings = client.embeddings.create(input=actual_question, model=\"text-embedding-3-small\")\n",
    "#     mean_cosine = sum([cosine_sim(generated_embeddings.data[i].embedding, actual_embeddings.data[0].embedding) for i in range(len(generated_embeddings.data))])/len(generated_embeddings.data)\n",
    "#     return mean_cosine"
   ]
  },
  {
   "cell_type": "code",
   "execution_count": 389,
   "metadata": {},
   "outputs": [],
   "source": [
    "from datasets import Dataset \n",
    "from ragas.metrics import answer_relevancy, faithfulness\n",
    "from ragas import evaluate"
   ]
  },
  {
   "cell_type": "code",
   "execution_count": 394,
   "metadata": {},
   "outputs": [],
   "source": [
    "data_samples = {\n",
    "    \"question\": [prompt],\n",
    "    \"answer\": [response],\n",
    "    \"contexts\": [content]\n",
    "}"
   ]
  },
  {
   "cell_type": "code",
   "execution_count": 396,
   "metadata": {},
   "outputs": [
    {
     "name": "stderr",
     "output_type": "stream",
     "text": [
      "Evaluating: 100%|██████████| 2/2 [00:06<00:00,  3.08s/it]\n"
     ]
    },
    {
     "data": {
      "text/html": [
       "<div>\n",
       "<style scoped>\n",
       "    .dataframe tbody tr th:only-of-type {\n",
       "        vertical-align: middle;\n",
       "    }\n",
       "\n",
       "    .dataframe tbody tr th {\n",
       "        vertical-align: top;\n",
       "    }\n",
       "\n",
       "    .dataframe thead th {\n",
       "        text-align: right;\n",
       "    }\n",
       "</style>\n",
       "<table border=\"1\" class=\"dataframe\">\n",
       "  <thead>\n",
       "    <tr style=\"text-align: right;\">\n",
       "      <th></th>\n",
       "      <th>question</th>\n",
       "      <th>answer</th>\n",
       "      <th>contexts</th>\n",
       "      <th>faithfulness</th>\n",
       "      <th>answer_relevancy</th>\n",
       "    </tr>\n",
       "  </thead>\n",
       "  <tbody>\n",
       "    <tr>\n",
       "      <th>0</th>\n",
       "      <td>If I want to spray pesticides on my farm in Ca...</td>\n",
       "      <td>If you are not regularly engaged in the busine...</td>\n",
       "      <td>[the matter may proceed to hearing as though t...</td>\n",
       "      <td>1.0</td>\n",
       "      <td>0.905619</td>\n",
       "    </tr>\n",
       "  </tbody>\n",
       "</table>\n",
       "</div>"
      ],
      "text/plain": [
       "                                            question  ... answer_relevancy\n",
       "0  If I want to spray pesticides on my farm in Ca...  ...         0.905619\n",
       "\n",
       "[1 rows x 5 columns]"
      ]
     },
     "execution_count": 396,
     "metadata": {},
     "output_type": "execute_result"
    }
   ],
   "source": [
    "dataset = Dataset.from_dict(data_samples)\n",
    "score = evaluate(dataset,metrics=[faithfulness, answer_relevancy])\n",
    "score.to_pandas()"
   ]
  }
 ],
 "metadata": {
  "kernelspec": {
   "display_name": "rag",
   "language": "python",
   "name": "python3"
  },
  "language_info": {
   "codemirror_mode": {
    "name": "ipython",
    "version": 3
   },
   "file_extension": ".py",
   "mimetype": "text/x-python",
   "name": "python",
   "nbconvert_exporter": "python",
   "pygments_lexer": "ipython3",
   "version": "3.10.7"
  }
 },
 "nbformat": 4,
 "nbformat_minor": 2
}
